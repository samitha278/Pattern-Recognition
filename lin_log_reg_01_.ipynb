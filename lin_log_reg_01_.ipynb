{
  "nbformat": 4,
  "nbformat_minor": 0,
  "metadata": {
    "colab": {
      "provenance": [],
      "authorship_tag": "ABX9TyO178iw8Gq6ZQZC9HHWjWTn",
      "include_colab_link": true
    },
    "kernelspec": {
      "name": "python3",
      "display_name": "Python 3"
    },
    "language_info": {
      "name": "python"
    }
  },
  "cells": [
    {
      "cell_type": "markdown",
      "metadata": {
        "id": "view-in-github",
        "colab_type": "text"
      },
      "source": [
        "<a href=\"https://colab.research.google.com/github/samitha278/Pattern-Recognition/blob/main/lin_log_reg_01_.ipynb\" target=\"_parent\"><img src=\"https://colab.research.google.com/assets/colab-badge.svg\" alt=\"Open In Colab\"/></a>"
      ]
    },
    {
      "cell_type": "code",
      "source": [
        "import torch\n",
        "import matplotlib.pyplot as plt\n"
      ],
      "metadata": {
        "id": "EXQIBfT1kQ3A"
      },
      "execution_count": 6,
      "outputs": []
    },
    {
      "cell_type": "markdown",
      "source": [
        "Quetion 1"
      ],
      "metadata": {
        "id": "vyYRrAVakD4f"
      }
    },
    {
      "cell_type": "code",
      "execution_count": 2,
      "metadata": {
        "colab": {
          "base_uri": "https://localhost:8080/"
        },
        "id": "1TUuIz3DjooC",
        "outputId": "f927a570-f61b-40d0-afe9-3613fc0394df"
      },
      "outputs": [
        {
          "output_type": "execute_result",
          "data": {
            "text/plain": [
              "(tensor([0.2000, 3.0000, 9.0000, 8.0000]),\n",
              " tensor([5.0000, 0.6667, 0.3333, 0.5000]),\n",
              " tensor([ 5.5000,  8.0000, 11.5000, 15.0000]))"
            ]
          },
          "metadata": {},
          "execution_count": 2
        }
      ],
      "source": [
        "x1 = torch.tensor([1/5,3,9,8])\n",
        "x2 = torch.tensor([5,2/3,1/3,1/2])\n",
        "y = torch.tensor([5.5,8,11.5,15])\n",
        "\n",
        "x1,x2,y"
      ]
    },
    {
      "cell_type": "code",
      "source": [
        "#initial params\n",
        "w0 = torch.tensor(0.0)\n",
        "w1 = torch.tensor(1.0)"
      ],
      "metadata": {
        "id": "4Jd31PjrktQZ"
      },
      "execution_count": 46,
      "outputs": []
    },
    {
      "cell_type": "code",
      "source": [
        "x1*x2"
      ],
      "metadata": {
        "colab": {
          "base_uri": "https://localhost:8080/"
        },
        "id": "GJkogMtilokD",
        "outputId": "c9d36a03-d044-4255-fcd6-9d6b1d559622"
      },
      "execution_count": 10,
      "outputs": [
        {
          "output_type": "execute_result",
          "data": {
            "text/plain": [
              "tensor([1., 2., 3., 4.])"
            ]
          },
          "metadata": {},
          "execution_count": 10
        }
      ]
    },
    {
      "cell_type": "code",
      "source": [
        "f = w0 + w1*x1*x2\n",
        "f"
      ],
      "metadata": {
        "colab": {
          "base_uri": "https://localhost:8080/"
        },
        "id": "mvkhqJbblTHu",
        "outputId": "fbd54c50-d3d3-4831-ddb3-9258f660378b"
      },
      "execution_count": 5,
      "outputs": [
        {
          "output_type": "execute_result",
          "data": {
            "text/plain": [
              "tensor([1., 2., 3., 4.])"
            ]
          },
          "metadata": {},
          "execution_count": 5
        }
      ]
    },
    {
      "cell_type": "code",
      "source": [
        "plt.plot(f)\n",
        "plt.show()"
      ],
      "metadata": {
        "colab": {
          "base_uri": "https://localhost:8080/",
          "height": 430
        },
        "id": "2d6UtBe6lYWl",
        "outputId": "b734c8e3-623c-4358-8dfd-e1690395a8d0"
      },
      "execution_count": 9,
      "outputs": [
        {
          "output_type": "display_data",
          "data": {
            "text/plain": [
              "<Figure size 640x480 with 1 Axes>"
            ],
            "image/png": "[encoded data removed]"
          },
          "metadata": {}
        }
      ]
    },
    {
      "cell_type": "code",
      "source": [
        "def cost(f,y):\n",
        "  m = len(f)\n",
        "\n",
        "  J = (1.0/(2*m)) * ((f-y)**2).sum()\n",
        "\n",
        "  return J"
      ],
      "metadata": {
        "id": "2USleOI0lzLx"
      },
      "execution_count": 16,
      "outputs": []
    },
    {
      "cell_type": "code",
      "source": [
        "J = cost(f,y)\n",
        "J"
      ],
      "metadata": {
        "colab": {
          "base_uri": "https://localhost:8080/"
        },
        "id": "-tEHCOeFliqJ",
        "outputId": "d4f9e97a-c8ae-45dc-f1ae-bbe66e38371d"
      },
      "execution_count": 17,
      "outputs": [
        {
          "output_type": "execute_result",
          "data": {
            "text/plain": [
              "tensor(31.1875)"
            ]
          },
          "metadata": {},
          "execution_count": 17
        }
      ]
    },
    {
      "cell_type": "code",
      "source": [
        "def gradiet_decent(w0,w1,x1,x2,y,lr = 0.001,  max_iter = 10000):\n",
        "\n",
        "  m = len(y)\n",
        "\n",
        "\n",
        "\n",
        "  for i in range(max_iter):\n",
        "\n",
        "    f = w0 + w1*x1*x2\n",
        "    J = cost(f,y)\n",
        "\n",
        "    print(f'{i}/{max_iter}  {J}') if i%1000==0 else None\n",
        "\n",
        "    dw0 = (1.0/m) * (f-y).sum()\n",
        "    dw1 = (1.0/m) * ((f-y)*x1*x2).sum()\n",
        "\n",
        "    w0 -= lr * dw0\n",
        "\n",
        "    w1 -= lr * dw1\n",
        "\n",
        "  return w0,w1\n"
      ],
      "metadata": {
        "id": "CEgv06xnmZR5"
      },
      "execution_count": 44,
      "outputs": []
    },
    {
      "cell_type": "code",
      "source": [
        "w0,w1 = gradiet_decent(w0,w1,x1,x2,y)\n",
        "\n",
        "f = w0 + w1*x1*x2\n",
        "\n",
        "print(f'final cost: {cost(f,y)}')"
      ],
      "metadata": {
        "colab": {
          "base_uri": "https://localhost:8080/"
        },
        "id": "hHnQibMRqZbM",
        "outputId": "74b96458-4f28-400a-bbec-e3ab00b341a6"
      },
      "execution_count": 47,
      "outputs": [
        {
          "output_type": "stream",
          "name": "stdout",
          "text": [
            "0/10000  31.1875\n",
            "1000/10000  0.11541753262281418\n",
            "2000/10000  0.09525572508573532\n",
            "3000/10000  0.08031181246042252\n",
            "4000/10000  0.06923460215330124\n",
            "5000/10000  0.061023615300655365\n",
            "6000/10000  0.0549372062087059\n",
            "7000/10000  0.05042557045817375\n",
            "8000/10000  0.04708128795027733\n",
            "9000/10000  0.044602394104003906\n",
            "final cost: 0.042764823883771896\n"
          ]
        }
      ]
    },
    {
      "cell_type": "code",
      "source": [
        "print(w0,w1)"
      ],
      "metadata": {
        "colab": {
          "base_uri": "https://localhost:8080/"
        },
        "id": "RC8vg9P2qwbQ",
        "outputId": "664f945c-ea05-4204-d922-6b25c2ccf0f1"
      },
      "execution_count": 48,
      "outputs": [
        {
          "output_type": "stream",
          "name": "stdout",
          "text": [
            "tensor(1.7489) tensor(3.2854)\n"
          ]
        }
      ]
    },
    {
      "cell_type": "code",
      "source": [
        "plt.scatter(x1*x2,y)\n",
        "plt.plot(x1*x2 , f)\n",
        "plt.show()"
      ],
      "metadata": {
        "colab": {
          "base_uri": "https://localhost:8080/",
          "height": 430
        },
        "id": "NAP1lKLEtT5j",
        "outputId": "2c3677fc-c03f-401f-b219-50a80ae77289"
      },
      "execution_count": 51,
      "outputs": [
        {
          "output_type": "display_data",
          "data": {
            "text/plain": [
              "<Figure size 640x480 with 1 Axes>"
            ],
            "image/png": "[encoded data removed]"
          },
          "metadata": {}
        }
      ]
    },
    {
      "cell_type": "code",
      "source": [],
      "metadata": {
        "id": "Hl0xD3H6uagp"
      },
      "execution_count": null,
      "outputs": []
    }
  ]
}